{
  "nbformat": 4,
  "nbformat_minor": 0,
  "metadata": {
    "colab": {
      "provenance": []
    },
    "kernelspec": {
      "name": "python3",
      "display_name": "Python 3"
    },
    "language_info": {
      "name": "python"
    }
  },
  "cells": [
    {
      "cell_type": "markdown",
      "source": [
        "# Impor library yang diperlukan"
      ],
      "metadata": {
        "id": "XKcsMoq6nKZ3"
      }
    },
    {
      "cell_type": "code",
      "execution_count": 1,
      "metadata": {
        "id": "XOAFZc5xnGKB"
      },
      "outputs": [],
      "source": [
        "import pandas as pd\n",
        "import networkx as nx\n",
        "import matplotlib.pyplot as plt"
      ]
    },
    {
      "cell_type": "markdown",
      "source": [
        "# Impor dataset\n"
      ],
      "metadata": {
        "id": "jAo_q_ddnPtw"
      }
    },
    {
      "cell_type": "code",
      "source": [
        "# from google.colab import drive\n",
        "# drive.mount('/content/drive')"
      ],
      "metadata": {
        "id": "HCqkqE4zIZgb"
      },
      "execution_count": 2,
      "outputs": []
    },
    {
      "cell_type": "code",
      "source": [
        "data = pd.read_csv(\"/content/drive/MyDrive/Tugas AJS/Search Telu Dataset.csv\")"
      ],
      "metadata": {
        "id": "ZRrMbWu8nVMd"
      },
      "execution_count": 3,
      "outputs": []
    },
    {
      "cell_type": "code",
      "source": [
        "data.info()"
      ],
      "metadata": {
        "colab": {
          "base_uri": "https://localhost:8080/"
        },
        "id": "QRCqCQIU1JGr",
        "outputId": "7edaaccd-c801-4b5c-b136-24f4dadccc97"
      },
      "execution_count": 4,
      "outputs": [
        {
          "output_type": "stream",
          "name": "stdout",
          "text": [
            "<class 'pandas.core.frame.DataFrame'>\n",
            "RangeIndex: 506 entries, 0 to 505\n",
            "Data columns (total 9 columns):\n",
            " #   Column     Non-Null Count  Dtype \n",
            "---  ------     --------------  ----- \n",
            " 0   tweet_id   506 non-null    int64 \n",
            " 1   username   506 non-null    object\n",
            " 2   text       505 non-null    object\n",
            " 3   timestamp  506 non-null    object\n",
            " 4   replies    506 non-null    int64 \n",
            " 5   retweets   506 non-null    int64 \n",
            " 6   quotes     506 non-null    int64 \n",
            " 7   likes      506 non-null    int64 \n",
            " 8   url        506 non-null    object\n",
            "dtypes: int64(5), object(4)\n",
            "memory usage: 35.7+ KB\n"
          ]
        }
      ]
    },
    {
      "cell_type": "code",
      "source": [
        "data.head()"
      ],
      "metadata": {
        "colab": {
          "base_uri": "https://localhost:8080/",
          "height": 337
        },
        "id": "i8A13HMKoBlz",
        "outputId": "60057d32-954a-4ef5-ba8f-63ce64757603"
      },
      "execution_count": 5,
      "outputs": [
        {
          "output_type": "execute_result",
          "data": {
            "text/plain": [
              "              tweet_id        username  \\\n",
              "0  1668525525508440067      @kompascom   \n",
              "1  1668830730351198208  @TelUniversity   \n",
              "2  1668829758581518337   @radarbandung   \n",
              "3  1668551348650926082  @TelUniversity   \n",
              "4  1668641833805844480      @smbtelkom   \n",
              "\n",
              "                                                text  \\\n",
              "0  Putu Arjuna Nugraha Eka Wana mahasiswa Telkom ...   \n",
              "1  Keren! Tel-U Menempati Peringkat 54 Dunia dala...   \n",
              "2  Pamit ke Rumah Teman, Mahasiswa Telkom Univers...   \n",
              "3  Xynexis dan Telkom University Bandung Lakukan ...   \n",
              "4                 Wih ada telkom nih  @TelUniversity   \n",
              "\n",
              "                   timestamp  replies  retweets  quotes  likes  \\\n",
              "0  2023-06-13 07:47:00+00:00       10        20       4     42   \n",
              "1  2023-06-14 04:00:00+00:00        0         0       0      3   \n",
              "2  2023-06-14 03:56:00+00:00        0         1       0      1   \n",
              "3  2023-06-13 09:30:00+00:00        0         1       0      2   \n",
              "4  2023-06-13 15:29:00+00:00        0         0       0      0   \n",
              "\n",
              "                                                 url  \n",
              "0  https://twitter.com/kompascom/status/166852552...  \n",
              "1  https://twitter.com/TelUniversity/status/16688...  \n",
              "2  https://twitter.com/radarbandung/status/166882...  \n",
              "3  https://twitter.com/TelUniversity/status/16685...  \n",
              "4  https://twitter.com/smbtelkom/status/166864183...  "
            ],
            "text/html": [
              "\n",
              "  <div id=\"df-25f0c7b1-0e6d-4bb6-9ead-c8e35ce9f535\">\n",
              "    <div class=\"colab-df-container\">\n",
              "      <div>\n",
              "<style scoped>\n",
              "    .dataframe tbody tr th:only-of-type {\n",
              "        vertical-align: middle;\n",
              "    }\n",
              "\n",
              "    .dataframe tbody tr th {\n",
              "        vertical-align: top;\n",
              "    }\n",
              "\n",
              "    .dataframe thead th {\n",
              "        text-align: right;\n",
              "    }\n",
              "</style>\n",
              "<table border=\"1\" class=\"dataframe\">\n",
              "  <thead>\n",
              "    <tr style=\"text-align: right;\">\n",
              "      <th></th>\n",
              "      <th>tweet_id</th>\n",
              "      <th>username</th>\n",
              "      <th>text</th>\n",
              "      <th>timestamp</th>\n",
              "      <th>replies</th>\n",
              "      <th>retweets</th>\n",
              "      <th>quotes</th>\n",
              "      <th>likes</th>\n",
              "      <th>url</th>\n",
              "    </tr>\n",
              "  </thead>\n",
              "  <tbody>\n",
              "    <tr>\n",
              "      <th>0</th>\n",
              "      <td>1668525525508440067</td>\n",
              "      <td>@kompascom</td>\n",
              "      <td>Putu Arjuna Nugraha Eka Wana mahasiswa Telkom ...</td>\n",
              "      <td>2023-06-13 07:47:00+00:00</td>\n",
              "      <td>10</td>\n",
              "      <td>20</td>\n",
              "      <td>4</td>\n",
              "      <td>42</td>\n",
              "      <td>https://twitter.com/kompascom/status/166852552...</td>\n",
              "    </tr>\n",
              "    <tr>\n",
              "      <th>1</th>\n",
              "      <td>1668830730351198208</td>\n",
              "      <td>@TelUniversity</td>\n",
              "      <td>Keren! Tel-U Menempati Peringkat 54 Dunia dala...</td>\n",
              "      <td>2023-06-14 04:00:00+00:00</td>\n",
              "      <td>0</td>\n",
              "      <td>0</td>\n",
              "      <td>0</td>\n",
              "      <td>3</td>\n",
              "      <td>https://twitter.com/TelUniversity/status/16688...</td>\n",
              "    </tr>\n",
              "    <tr>\n",
              "      <th>2</th>\n",
              "      <td>1668829758581518337</td>\n",
              "      <td>@radarbandung</td>\n",
              "      <td>Pamit ke Rumah Teman, Mahasiswa Telkom Univers...</td>\n",
              "      <td>2023-06-14 03:56:00+00:00</td>\n",
              "      <td>0</td>\n",
              "      <td>1</td>\n",
              "      <td>0</td>\n",
              "      <td>1</td>\n",
              "      <td>https://twitter.com/radarbandung/status/166882...</td>\n",
              "    </tr>\n",
              "    <tr>\n",
              "      <th>3</th>\n",
              "      <td>1668551348650926082</td>\n",
              "      <td>@TelUniversity</td>\n",
              "      <td>Xynexis dan Telkom University Bandung Lakukan ...</td>\n",
              "      <td>2023-06-13 09:30:00+00:00</td>\n",
              "      <td>0</td>\n",
              "      <td>1</td>\n",
              "      <td>0</td>\n",
              "      <td>2</td>\n",
              "      <td>https://twitter.com/TelUniversity/status/16685...</td>\n",
              "    </tr>\n",
              "    <tr>\n",
              "      <th>4</th>\n",
              "      <td>1668641833805844480</td>\n",
              "      <td>@smbtelkom</td>\n",
              "      <td>Wih ada telkom nih  @TelUniversity</td>\n",
              "      <td>2023-06-13 15:29:00+00:00</td>\n",
              "      <td>0</td>\n",
              "      <td>0</td>\n",
              "      <td>0</td>\n",
              "      <td>0</td>\n",
              "      <td>https://twitter.com/smbtelkom/status/166864183...</td>\n",
              "    </tr>\n",
              "  </tbody>\n",
              "</table>\n",
              "</div>\n",
              "      <button class=\"colab-df-convert\" onclick=\"convertToInteractive('df-25f0c7b1-0e6d-4bb6-9ead-c8e35ce9f535')\"\n",
              "              title=\"Convert this dataframe to an interactive table.\"\n",
              "              style=\"display:none;\">\n",
              "        \n",
              "  <svg xmlns=\"http://www.w3.org/2000/svg\" height=\"24px\"viewBox=\"0 0 24 24\"\n",
              "       width=\"24px\">\n",
              "    <path d=\"M0 0h24v24H0V0z\" fill=\"none\"/>\n",
              "    <path d=\"M18.56 5.44l.94 2.06.94-2.06 2.06-.94-2.06-.94-.94-2.06-.94 2.06-2.06.94zm-11 1L8.5 8.5l.94-2.06 2.06-.94-2.06-.94L8.5 2.5l-.94 2.06-2.06.94zm10 10l.94 2.06.94-2.06 2.06-.94-2.06-.94-.94-2.06-.94 2.06-2.06.94z\"/><path d=\"M17.41 7.96l-1.37-1.37c-.4-.4-.92-.59-1.43-.59-.52 0-1.04.2-1.43.59L10.3 9.45l-7.72 7.72c-.78.78-.78 2.05 0 2.83L4 21.41c.39.39.9.59 1.41.59.51 0 1.02-.2 1.41-.59l7.78-7.78 2.81-2.81c.8-.78.8-2.07 0-2.86zM5.41 20L4 18.59l7.72-7.72 1.47 1.35L5.41 20z\"/>\n",
              "  </svg>\n",
              "      </button>\n",
              "      \n",
              "  <style>\n",
              "    .colab-df-container {\n",
              "      display:flex;\n",
              "      flex-wrap:wrap;\n",
              "      gap: 12px;\n",
              "    }\n",
              "\n",
              "    .colab-df-convert {\n",
              "      background-color: #E8F0FE;\n",
              "      border: none;\n",
              "      border-radius: 50%;\n",
              "      cursor: pointer;\n",
              "      display: none;\n",
              "      fill: #1967D2;\n",
              "      height: 32px;\n",
              "      padding: 0 0 0 0;\n",
              "      width: 32px;\n",
              "    }\n",
              "\n",
              "    .colab-df-convert:hover {\n",
              "      background-color: #E2EBFA;\n",
              "      box-shadow: 0px 1px 2px rgba(60, 64, 67, 0.3), 0px 1px 3px 1px rgba(60, 64, 67, 0.15);\n",
              "      fill: #174EA6;\n",
              "    }\n",
              "\n",
              "    [theme=dark] .colab-df-convert {\n",
              "      background-color: #3B4455;\n",
              "      fill: #D2E3FC;\n",
              "    }\n",
              "\n",
              "    [theme=dark] .colab-df-convert:hover {\n",
              "      background-color: #434B5C;\n",
              "      box-shadow: 0px 1px 3px 1px rgba(0, 0, 0, 0.15);\n",
              "      filter: drop-shadow(0px 1px 2px rgba(0, 0, 0, 0.3));\n",
              "      fill: #FFFFFF;\n",
              "    }\n",
              "  </style>\n",
              "\n",
              "      <script>\n",
              "        const buttonEl =\n",
              "          document.querySelector('#df-25f0c7b1-0e6d-4bb6-9ead-c8e35ce9f535 button.colab-df-convert');\n",
              "        buttonEl.style.display =\n",
              "          google.colab.kernel.accessAllowed ? 'block' : 'none';\n",
              "\n",
              "        async function convertToInteractive(key) {\n",
              "          const element = document.querySelector('#df-25f0c7b1-0e6d-4bb6-9ead-c8e35ce9f535');\n",
              "          const dataTable =\n",
              "            await google.colab.kernel.invokeFunction('convertToInteractive',\n",
              "                                                     [key], {});\n",
              "          if (!dataTable) return;\n",
              "\n",
              "          const docLinkHtml = 'Like what you see? Visit the ' +\n",
              "            '<a target=\"_blank\" href=https://colab.research.google.com/notebooks/data_table.ipynb>data table notebook</a>'\n",
              "            + ' to learn more about interactive tables.';\n",
              "          element.innerHTML = '';\n",
              "          dataTable['output_type'] = 'display_data';\n",
              "          await google.colab.output.renderOutput(dataTable, element);\n",
              "          const docLink = document.createElement('div');\n",
              "          docLink.innerHTML = docLinkHtml;\n",
              "          element.appendChild(docLink);\n",
              "        }\n",
              "      </script>\n",
              "    </div>\n",
              "  </div>\n",
              "  "
            ]
          },
          "metadata": {},
          "execution_count": 5
        }
      ]
    },
    {
      "cell_type": "markdown",
      "source": [
        "Bangun graf jaringan retweet menggunakan NetworkX"
      ],
      "metadata": {
        "id": "DaBK7xUbwgx1"
      }
    },
    {
      "cell_type": "code",
      "source": [
        "G = nx.DiGraph()\n",
        "for i, row in data.iterrows():\n",
        "    G.add_edge(row['username'], row['retweets'])"
      ],
      "metadata": {
        "id": "hUuH4xNGwdg2"
      },
      "execution_count": 6,
      "outputs": []
    },
    {
      "cell_type": "markdown",
      "source": [
        "# Hitung degree centrality"
      ],
      "metadata": {
        "id": "C7tJOZvKoaQm"
      }
    },
    {
      "cell_type": "code",
      "source": [
        "degree_centrality = nx.degree_centrality(G)"
      ],
      "metadata": {
        "id": "lcKqT-yKodHf"
      },
      "execution_count": 7,
      "outputs": []
    },
    {
      "cell_type": "markdown",
      "source": [
        "# Hitung degree"
      ],
      "metadata": {
        "id": "h-PWY8lGvhXT"
      }
    },
    {
      "cell_type": "code",
      "source": [
        "degree = dict(G.degree())"
      ],
      "metadata": {
        "id": "9gg38mEnvi5y"
      },
      "execution_count": 8,
      "outputs": []
    },
    {
      "cell_type": "markdown",
      "source": [
        "# Cari 5 nilai degree centrality tertinggi"
      ],
      "metadata": {
        "id": "tFppBRQDoi_T"
      }
    },
    {
      "cell_type": "code",
      "source": [
        "degree_centrality = pd.DataFrame(data['username'].value_counts()).reset_index()\n",
        "degree_centrality.columns = ['username', 'degree_centrality']"
      ],
      "metadata": {
        "id": "Q-K1BGddrIZC"
      },
      "execution_count": 9,
      "outputs": []
    },
    {
      "cell_type": "code",
      "source": [
        "top_5_degree_centrality = degree_centrality.sort_values('degree_centrality', ascending=False)[:5]"
      ],
      "metadata": {
        "id": "1_iMdXepol66"
      },
      "execution_count": 10,
      "outputs": []
    },
    {
      "cell_type": "code",
      "source": [
        "tweets = []\n",
        "for user in top_5_degree_centrality['username']:\n",
        "    tweet = data.loc[data['username'] == user, 'text']\n",
        "    if len(tweet) > 0:\n",
        "        tweets.append(tweet.iloc[0])\n",
        "    else:\n",
        "        tweets.append('No tweet available')\n",
        "\n",
        "hasil_dataset = pd.DataFrame({'username': top_5_degree_centrality['username'], 'tweet': tweets})\n",
        "hasil_dataset['degree_centrality'] = top_5_degree_centrality['degree_centrality']"
      ],
      "metadata": {
        "id": "ZGXLR9XQpyCP"
      },
      "execution_count": 11,
      "outputs": []
    },
    {
      "cell_type": "code",
      "source": [
        "hasil_dataset.head()"
      ],
      "metadata": {
        "colab": {
          "base_uri": "https://localhost:8080/",
          "height": 206
        },
        "id": "XFWjpx4ivv26",
        "outputId": "0359c98c-6895-447c-dd94-e5a2b9a7b96b"
      },
      "execution_count": 12,
      "outputs": [
        {
          "output_type": "execute_result",
          "data": {
            "text/plain": [
              "          username                                              tweet  \\\n",
              "0      @TelUCareer  Bersedia ditugaskan di seluruh Indonesia\\n\\nIn...   \n",
              "1   @TelUniversity  Keren! Tel-U Menempati Peringkat 54 Dunia dala...   \n",
              "2  @direktoratputi  Telnologi Pengganti Base Transceiver Station (...   \n",
              "3       @smbtelkom                 Wih ada telkom nih  @TelUniversity   \n",
              "4  @nihonnomatsuri  -------------------\\n#NihonnoMatsuri14\\n#Nihon...   \n",
              "\n",
              "   degree_centrality  \n",
              "0                107  \n",
              "1                 65  \n",
              "2                 20  \n",
              "3                 19  \n",
              "4                  9  "
            ],
            "text/html": [
              "\n",
              "  <div id=\"df-7061a590-5838-4b46-999a-6e21f4d3cc9d\">\n",
              "    <div class=\"colab-df-container\">\n",
              "      <div>\n",
              "<style scoped>\n",
              "    .dataframe tbody tr th:only-of-type {\n",
              "        vertical-align: middle;\n",
              "    }\n",
              "\n",
              "    .dataframe tbody tr th {\n",
              "        vertical-align: top;\n",
              "    }\n",
              "\n",
              "    .dataframe thead th {\n",
              "        text-align: right;\n",
              "    }\n",
              "</style>\n",
              "<table border=\"1\" class=\"dataframe\">\n",
              "  <thead>\n",
              "    <tr style=\"text-align: right;\">\n",
              "      <th></th>\n",
              "      <th>username</th>\n",
              "      <th>tweet</th>\n",
              "      <th>degree_centrality</th>\n",
              "    </tr>\n",
              "  </thead>\n",
              "  <tbody>\n",
              "    <tr>\n",
              "      <th>0</th>\n",
              "      <td>@TelUCareer</td>\n",
              "      <td>Bersedia ditugaskan di seluruh Indonesia\\n\\nIn...</td>\n",
              "      <td>107</td>\n",
              "    </tr>\n",
              "    <tr>\n",
              "      <th>1</th>\n",
              "      <td>@TelUniversity</td>\n",
              "      <td>Keren! Tel-U Menempati Peringkat 54 Dunia dala...</td>\n",
              "      <td>65</td>\n",
              "    </tr>\n",
              "    <tr>\n",
              "      <th>2</th>\n",
              "      <td>@direktoratputi</td>\n",
              "      <td>Telnologi Pengganti Base Transceiver Station (...</td>\n",
              "      <td>20</td>\n",
              "    </tr>\n",
              "    <tr>\n",
              "      <th>3</th>\n",
              "      <td>@smbtelkom</td>\n",
              "      <td>Wih ada telkom nih  @TelUniversity</td>\n",
              "      <td>19</td>\n",
              "    </tr>\n",
              "    <tr>\n",
              "      <th>4</th>\n",
              "      <td>@nihonnomatsuri</td>\n",
              "      <td>-------------------\\n#NihonnoMatsuri14\\n#Nihon...</td>\n",
              "      <td>9</td>\n",
              "    </tr>\n",
              "  </tbody>\n",
              "</table>\n",
              "</div>\n",
              "      <button class=\"colab-df-convert\" onclick=\"convertToInteractive('df-7061a590-5838-4b46-999a-6e21f4d3cc9d')\"\n",
              "              title=\"Convert this dataframe to an interactive table.\"\n",
              "              style=\"display:none;\">\n",
              "        \n",
              "  <svg xmlns=\"http://www.w3.org/2000/svg\" height=\"24px\"viewBox=\"0 0 24 24\"\n",
              "       width=\"24px\">\n",
              "    <path d=\"M0 0h24v24H0V0z\" fill=\"none\"/>\n",
              "    <path d=\"M18.56 5.44l.94 2.06.94-2.06 2.06-.94-2.06-.94-.94-2.06-.94 2.06-2.06.94zm-11 1L8.5 8.5l.94-2.06 2.06-.94-2.06-.94L8.5 2.5l-.94 2.06-2.06.94zm10 10l.94 2.06.94-2.06 2.06-.94-2.06-.94-.94-2.06-.94 2.06-2.06.94z\"/><path d=\"M17.41 7.96l-1.37-1.37c-.4-.4-.92-.59-1.43-.59-.52 0-1.04.2-1.43.59L10.3 9.45l-7.72 7.72c-.78.78-.78 2.05 0 2.83L4 21.41c.39.39.9.59 1.41.59.51 0 1.02-.2 1.41-.59l7.78-7.78 2.81-2.81c.8-.78.8-2.07 0-2.86zM5.41 20L4 18.59l7.72-7.72 1.47 1.35L5.41 20z\"/>\n",
              "  </svg>\n",
              "      </button>\n",
              "      \n",
              "  <style>\n",
              "    .colab-df-container {\n",
              "      display:flex;\n",
              "      flex-wrap:wrap;\n",
              "      gap: 12px;\n",
              "    }\n",
              "\n",
              "    .colab-df-convert {\n",
              "      background-color: #E8F0FE;\n",
              "      border: none;\n",
              "      border-radius: 50%;\n",
              "      cursor: pointer;\n",
              "      display: none;\n",
              "      fill: #1967D2;\n",
              "      height: 32px;\n",
              "      padding: 0 0 0 0;\n",
              "      width: 32px;\n",
              "    }\n",
              "\n",
              "    .colab-df-convert:hover {\n",
              "      background-color: #E2EBFA;\n",
              "      box-shadow: 0px 1px 2px rgba(60, 64, 67, 0.3), 0px 1px 3px 1px rgba(60, 64, 67, 0.15);\n",
              "      fill: #174EA6;\n",
              "    }\n",
              "\n",
              "    [theme=dark] .colab-df-convert {\n",
              "      background-color: #3B4455;\n",
              "      fill: #D2E3FC;\n",
              "    }\n",
              "\n",
              "    [theme=dark] .colab-df-convert:hover {\n",
              "      background-color: #434B5C;\n",
              "      box-shadow: 0px 1px 3px 1px rgba(0, 0, 0, 0.15);\n",
              "      filter: drop-shadow(0px 1px 2px rgba(0, 0, 0, 0.3));\n",
              "      fill: #FFFFFF;\n",
              "    }\n",
              "  </style>\n",
              "\n",
              "      <script>\n",
              "        const buttonEl =\n",
              "          document.querySelector('#df-7061a590-5838-4b46-999a-6e21f4d3cc9d button.colab-df-convert');\n",
              "        buttonEl.style.display =\n",
              "          google.colab.kernel.accessAllowed ? 'block' : 'none';\n",
              "\n",
              "        async function convertToInteractive(key) {\n",
              "          const element = document.querySelector('#df-7061a590-5838-4b46-999a-6e21f4d3cc9d');\n",
              "          const dataTable =\n",
              "            await google.colab.kernel.invokeFunction('convertToInteractive',\n",
              "                                                     [key], {});\n",
              "          if (!dataTable) return;\n",
              "\n",
              "          const docLinkHtml = 'Like what you see? Visit the ' +\n",
              "            '<a target=\"_blank\" href=https://colab.research.google.com/notebooks/data_table.ipynb>data table notebook</a>'\n",
              "            + ' to learn more about interactive tables.';\n",
              "          element.innerHTML = '';\n",
              "          dataTable['output_type'] = 'display_data';\n",
              "          await google.colab.output.renderOutput(dataTable, element);\n",
              "          const docLink = document.createElement('div');\n",
              "          docLink.innerHTML = docLinkHtml;\n",
              "          element.appendChild(docLink);\n",
              "        }\n",
              "      </script>\n",
              "    </div>\n",
              "  </div>\n",
              "  "
            ]
          },
          "metadata": {},
          "execution_count": 12
        }
      ]
    },
    {
      "cell_type": "markdown",
      "source": [
        "# Visualisasikan graf jaringan retweet"
      ],
      "metadata": {
        "id": "yt0HvxCzoptj"
      }
    },
    {
      "cell_type": "code",
      "source": [
        "pos = nx.spring_layout(G)\n",
        "nx.draw_networkx(G, pos, with_labels=False, node_size=1000, node_color='blue', edge_color='gray', linewidths=0.5)\n",
        "plt.axis('off')\n",
        "plt.show()"
      ],
      "metadata": {
        "colab": {
          "base_uri": "https://localhost:8080/",
          "height": 406
        },
        "id": "ic496VyBoq3h",
        "outputId": "dd0a9f8a-6a2a-46a4-df74-5750b1b86cd5"
      },
      "execution_count": 13,
      "outputs": [
        {
          "output_type": "display_data",
          "data": {
            "text/plain": [
              "<Figure size 640x480 with 1 Axes>"
            ],
            "image/png": "[encoded data removed]"
          },
          "metadata": {}
        }
      ]
    },
    {
      "cell_type": "markdown",
      "source": [
        "# Hitung nilai degree dan eigenvector dari user yang paling berpengaruh\n",
        "\n",
        "\n"
      ],
      "metadata": {
        "id": "Jzplu4Yzo7it"
      }
    },
    {
      "cell_type": "code",
      "source": [
        "most_influential_user = top_5_degree_centrality.iloc[0]['username']\n",
        "# Check if the user is in the graph\n",
        "if most_influential_user in G:\n",
        "    # Get the user's degree and eigenvector centrality\n",
        "    degree = G.degree[most_influential_user]\n",
        "    eigenvector_centrality = nx.eigenvector_centrality(G)[most_influential_user]\n",
        "\n",
        "    # Print the user's information\n",
        "    print(f\"\\nUser paling berpengaruh: {most_influential_user}\")\n",
        "    print(f\"Degree : {degree}\")\n",
        "    print(f\"Eigenvector : {eigenvector_centrality}\")\n",
        "\n",
        "else:\n",
        "    print(f\"User {most_influential_user} is not in the graph.\")"
      ],
      "metadata": {
        "colab": {
          "base_uri": "https://localhost:8080/"
        },
        "id": "ghVwEjOIo4se",
        "outputId": "651ea6d4-00a4-40d2-ccdd-3c7f4156a4bf"
      },
      "execution_count": 17,
      "outputs": [
        {
          "output_type": "stream",
          "name": "stdout",
          "text": [
            "\n",
            "User paling berpengaruh: @TelUCareer\n",
            "Degree : 2\n",
            "Eigenvector : 7.196314200741074e-05\n"
          ]
        }
      ]
    }
  ]
}